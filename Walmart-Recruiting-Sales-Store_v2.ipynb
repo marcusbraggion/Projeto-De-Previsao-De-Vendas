{
 "cells": [
  {
   "cell_type": "markdown",
   "id": "54a5e882",
   "metadata": {},
   "source": [
    "## 0.0 Imports"
   ]
  },
  {
   "cell_type": "code",
   "execution_count": 77,
   "id": "ede99645",
   "metadata": {
    "ExecuteTime": {
     "end_time": "2022-01-09T17:35:15.135658Z",
     "start_time": "2022-01-09T17:35:15.117655Z"
    }
   },
   "outputs": [],
   "source": [
    "import pandas as pd\n",
    "import numpy as np\n",
    "import seaborn as sns\n",
    "import os\n",
    "import inflection\n",
    "import matplotlib.pyplot as plt\n",
    "from IPython.core.display import HTML"
   ]
  },
  {
   "cell_type": "markdown",
   "id": "02e32ef2",
   "metadata": {},
   "source": [
    "### 0.1 Helper Functions"
   ]
  },
  {
   "cell_type": "code",
   "execution_count": 85,
   "id": "843dcaf7",
   "metadata": {
    "ExecuteTime": {
     "end_time": "2022-01-09T17:36:29.237173Z",
     "start_time": "2022-01-09T17:36:29.214172Z"
    }
   },
   "outputs": [],
   "source": [
    "def jupyter_settings(): \n",
    "    %matplotlib inline \n",
    "    %pylab inline\n",
    "    plt.style.use( 'bmh' )\n",
    "    plt.rcParams['figure.figsize'] = [24, 20]\n",
    "    plt.rcParams['font.size'] = 24\n",
    "    display( HTML( '<style>.container { width:100% !important; }</style>') ) \n",
    "    pd.options.display.max_columns = None\n",
    "    pd.options.display.max_rows = 1000\n",
    "    pd.set_option( 'display.expand_frame_repr', False ) \n",
    "    sns.set()"
   ]
  },
  {
   "cell_type": "markdown",
   "id": "f1a5c47f",
   "metadata": {},
   "source": [
    "### 0.2 Loading Data"
   ]
  },
  {
   "cell_type": "code",
   "execution_count": 79,
   "id": "f8b204a7",
   "metadata": {
    "ExecuteTime": {
     "end_time": "2022-01-09T17:35:18.247887Z",
     "start_time": "2022-01-09T17:35:17.884862Z"
    },
    "hide_input": false,
    "scrolled": false
   },
   "outputs": [],
   "source": [
    "df_store_raw = pd.read_csv('data/train.csv', low_memory=False)\n",
    "df_features_raw = pd.read_csv('data/stores.csv', low_memory=False)\n",
    "\n",
    "#merge\n",
    "df_raw = pd.merge(df_store_raw, df_features_raw, on='Store', how='left')"
   ]
  },
  {
   "cell_type": "code",
   "execution_count": 61,
   "id": "04c240ce",
   "metadata": {
    "ExecuteTime": {
     "end_time": "2022-01-09T17:34:40.083536Z",
     "start_time": "2022-01-09T17:34:40.037533Z"
    }
   },
   "outputs": [
    {
     "data": {
      "text/html": [
       "<div>\n",
       "<style scoped>\n",
       "    .dataframe tbody tr th:only-of-type {\n",
       "        vertical-align: middle;\n",
       "    }\n",
       "\n",
       "    .dataframe tbody tr th {\n",
       "        vertical-align: top;\n",
       "    }\n",
       "\n",
       "    .dataframe thead th {\n",
       "        text-align: right;\n",
       "    }\n",
       "</style>\n",
       "<table border=\"1\" class=\"dataframe\">\n",
       "  <thead>\n",
       "    <tr style=\"text-align: right;\">\n",
       "      <th></th>\n",
       "      <th>Store</th>\n",
       "      <th>Dept</th>\n",
       "      <th>Date</th>\n",
       "      <th>Weekly_Sales</th>\n",
       "      <th>IsHoliday</th>\n",
       "      <th>Type</th>\n",
       "      <th>Size</th>\n",
       "    </tr>\n",
       "  </thead>\n",
       "  <tbody>\n",
       "    <tr>\n",
       "      <th>339605</th>\n",
       "      <td>35</td>\n",
       "      <td>92</td>\n",
       "      <td>2012-03-30</td>\n",
       "      <td>28355.02</td>\n",
       "      <td>False</td>\n",
       "      <td>B</td>\n",
       "      <td>103681</td>\n",
       "    </tr>\n",
       "  </tbody>\n",
       "</table>\n",
       "</div>"
      ],
      "text/plain": [
       "        Store  Dept        Date  Weekly_Sales  IsHoliday Type    Size\n",
       "339605     35    92  2012-03-30      28355.02      False    B  103681"
      ]
     },
     "execution_count": 61,
     "metadata": {},
     "output_type": "execute_result"
    }
   ],
   "source": [
    "df_raw.sample()"
   ]
  },
  {
   "cell_type": "markdown",
   "id": "592bcfa3",
   "metadata": {},
   "source": [
    "## 1.0 Descrição Dos Dados"
   ]
  },
  {
   "cell_type": "code",
   "execution_count": 62,
   "id": "4c7d1979",
   "metadata": {
    "ExecuteTime": {
     "end_time": "2022-01-09T17:34:40.163542Z",
     "start_time": "2022-01-09T17:34:40.085536Z"
    }
   },
   "outputs": [],
   "source": [
    "df1 = df_raw.copy()"
   ]
  },
  {
   "cell_type": "code",
   "execution_count": 63,
   "id": "7c901ee4",
   "metadata": {
    "ExecuteTime": {
     "end_time": "2022-01-09T17:34:40.259551Z",
     "start_time": "2022-01-09T17:34:40.209546Z"
    }
   },
   "outputs": [
    {
     "data": {
      "text/plain": [
       "Index(['Store', 'Dept', 'Date', 'Weekly_Sales', 'IsHoliday', 'Type', 'Size'], dtype='object')"
      ]
     },
     "execution_count": 63,
     "metadata": {},
     "output_type": "execute_result"
    }
   ],
   "source": [
    "df1.columns"
   ]
  },
  {
   "cell_type": "markdown",
   "id": "23d27333",
   "metadata": {},
   "source": [
    "### 1.1 Rename Columns"
   ]
  },
  {
   "cell_type": "code",
   "execution_count": 64,
   "id": "5212321f",
   "metadata": {
    "ExecuteTime": {
     "end_time": "2022-01-09T17:34:40.483567Z",
     "start_time": "2022-01-09T17:34:40.473565Z"
    }
   },
   "outputs": [],
   "source": [
    "cols_old = ['Store', 'Dept', 'Date', 'Weekly_Sales', 'IsHoliday', 'Type', 'Size']\n",
    "\n",
    "snakecase = lambda x: inflection.underscore(x)\n",
    "\n",
    "cols_new = list(map (snakecase, cols_old))\n",
    "\n",
    "#rename\n",
    "df1.columns = cols_new"
   ]
  },
  {
   "cell_type": "code",
   "execution_count": 65,
   "id": "f505a7f9",
   "metadata": {
    "ExecuteTime": {
     "end_time": "2022-01-09T17:34:40.643578Z",
     "start_time": "2022-01-09T17:34:40.605575Z"
    }
   },
   "outputs": [
    {
     "data": {
      "text/html": [
       "<div>\n",
       "<style scoped>\n",
       "    .dataframe tbody tr th:only-of-type {\n",
       "        vertical-align: middle;\n",
       "    }\n",
       "\n",
       "    .dataframe tbody tr th {\n",
       "        vertical-align: top;\n",
       "    }\n",
       "\n",
       "    .dataframe thead th {\n",
       "        text-align: right;\n",
       "    }\n",
       "</style>\n",
       "<table border=\"1\" class=\"dataframe\">\n",
       "  <thead>\n",
       "    <tr style=\"text-align: right;\">\n",
       "      <th></th>\n",
       "      <th>store</th>\n",
       "      <th>dept</th>\n",
       "      <th>date</th>\n",
       "      <th>weekly_sales</th>\n",
       "      <th>is_holiday</th>\n",
       "      <th>type</th>\n",
       "      <th>size</th>\n",
       "    </tr>\n",
       "  </thead>\n",
       "  <tbody>\n",
       "    <tr>\n",
       "      <th>207756</th>\n",
       "      <td>22</td>\n",
       "      <td>5</td>\n",
       "      <td>2011-02-11</td>\n",
       "      <td>24374.69</td>\n",
       "      <td>True</td>\n",
       "      <td>B</td>\n",
       "      <td>119557</td>\n",
       "    </tr>\n",
       "  </tbody>\n",
       "</table>\n",
       "</div>"
      ],
      "text/plain": [
       "        store  dept        date  weekly_sales  is_holiday type    size\n",
       "207756     22     5  2011-02-11      24374.69        True    B  119557"
      ]
     },
     "execution_count": 65,
     "metadata": {},
     "output_type": "execute_result"
    }
   ],
   "source": [
    "df1.sample()"
   ]
  },
  {
   "cell_type": "markdown",
   "id": "73daf4e5",
   "metadata": {},
   "source": [
    "### 1.2 Data Dimensions"
   ]
  },
  {
   "cell_type": "code",
   "execution_count": 66,
   "id": "f9e780e4",
   "metadata": {
    "ExecuteTime": {
     "end_time": "2022-01-09T17:34:40.881595Z",
     "start_time": "2022-01-09T17:34:40.865594Z"
    }
   },
   "outputs": [
    {
     "name": "stdout",
     "output_type": "stream",
     "text": [
      "Number of Rows: 421570\n",
      "Number of Cols: 7\n"
     ]
    }
   ],
   "source": [
    "print('Number of Rows: {}'.format(df1.shape[0]))\n",
    "print('Number of Cols: {}'.format(df1.shape[1]))"
   ]
  },
  {
   "cell_type": "markdown",
   "id": "0ae5075b",
   "metadata": {},
   "source": [
    "### 1.3 Data Types"
   ]
  },
  {
   "cell_type": "code",
   "execution_count": 67,
   "id": "a1bf02d6",
   "metadata": {
    "ExecuteTime": {
     "end_time": "2022-01-09T17:34:41.152615Z",
     "start_time": "2022-01-09T17:34:41.135615Z"
    }
   },
   "outputs": [
    {
     "data": {
      "text/plain": [
       "store             int64\n",
       "dept              int64\n",
       "date             object\n",
       "weekly_sales    float64\n",
       "is_holiday         bool\n",
       "type             object\n",
       "size              int64\n",
       "dtype: object"
      ]
     },
     "execution_count": 67,
     "metadata": {},
     "output_type": "execute_result"
    }
   ],
   "source": [
    "df1.dtypes"
   ]
  },
  {
   "cell_type": "markdown",
   "id": "de3adccb",
   "metadata": {},
   "source": [
    "### 1.4 Check NA"
   ]
  },
  {
   "cell_type": "code",
   "execution_count": 68,
   "id": "6bbc8e24",
   "metadata": {
    "ExecuteTime": {
     "end_time": "2022-01-09T17:34:41.455637Z",
     "start_time": "2022-01-09T17:34:41.406634Z"
    },
    "scrolled": true
   },
   "outputs": [
    {
     "data": {
      "text/plain": [
       "store           0\n",
       "dept            0\n",
       "date            0\n",
       "weekly_sales    0\n",
       "is_holiday      0\n",
       "type            0\n",
       "size            0\n",
       "dtype: int64"
      ]
     },
     "execution_count": 68,
     "metadata": {},
     "output_type": "execute_result"
    }
   ],
   "source": [
    "df1.isna().sum()"
   ]
  },
  {
   "cell_type": "markdown",
   "id": "55289d38",
   "metadata": {},
   "source": [
    "### Fillout Na"
   ]
  },
  {
   "cell_type": "markdown",
   "id": "1b24b77a",
   "metadata": {},
   "source": [
    "### 1.6 Change Types"
   ]
  },
  {
   "cell_type": "code",
   "execution_count": 69,
   "id": "9c96e4c4",
   "metadata": {
    "ExecuteTime": {
     "end_time": "2022-01-09T17:34:41.807664Z",
     "start_time": "2022-01-09T17:34:41.792663Z"
    }
   },
   "outputs": [
    {
     "data": {
      "text/plain": [
       "store             int64\n",
       "dept              int64\n",
       "date             object\n",
       "weekly_sales    float64\n",
       "is_holiday         bool\n",
       "type             object\n",
       "size              int64\n",
       "dtype: object"
      ]
     },
     "execution_count": 69,
     "metadata": {},
     "output_type": "execute_result"
    }
   ],
   "source": [
    "df1.dtypes"
   ]
  },
  {
   "cell_type": "code",
   "execution_count": 70,
   "id": "ab56ac7d",
   "metadata": {
    "ExecuteTime": {
     "end_time": "2022-01-09T17:34:41.982677Z",
     "start_time": "2022-01-09T17:34:41.918673Z"
    }
   },
   "outputs": [],
   "source": [
    "df1['date'] = pd.to_datetime(df1['date'])"
   ]
  },
  {
   "cell_type": "code",
   "execution_count": 71,
   "id": "7a713edd",
   "metadata": {
    "ExecuteTime": {
     "end_time": "2022-01-09T17:34:42.046683Z",
     "start_time": "2022-01-09T17:34:42.038682Z"
    }
   },
   "outputs": [
    {
     "data": {
      "text/plain": [
       "store                    int64\n",
       "dept                     int64\n",
       "date            datetime64[ns]\n",
       "weekly_sales           float64\n",
       "is_holiday                bool\n",
       "type                    object\n",
       "size                     int64\n",
       "dtype: object"
      ]
     },
     "execution_count": 71,
     "metadata": {},
     "output_type": "execute_result"
    }
   ],
   "source": [
    "df1.dtypes"
   ]
  },
  {
   "cell_type": "markdown",
   "id": "f07731c1",
   "metadata": {},
   "source": [
    "### 1.7 Descriptive Statistical"
   ]
  },
  {
   "cell_type": "code",
   "execution_count": 72,
   "id": "44dcfe55",
   "metadata": {
    "ExecuteTime": {
     "end_time": "2022-01-09T17:34:42.382706Z",
     "start_time": "2022-01-09T17:34:42.349706Z"
    }
   },
   "outputs": [],
   "source": [
    "num_attributes = df1.select_dtypes( include=['int64', 'float64'] )\n",
    "cat_attributes = df1.select_dtypes( exclude=['int64', 'float64', 'datetime64[ns]'] )"
   ]
  },
  {
   "cell_type": "markdown",
   "id": "5eb463a9",
   "metadata": {},
   "source": [
    "### 1.7.1 Numerical Attributes"
   ]
  },
  {
   "cell_type": "code",
   "execution_count": 73,
   "id": "28717b20",
   "metadata": {
    "ExecuteTime": {
     "end_time": "2022-01-09T17:34:43.309776Z",
     "start_time": "2022-01-09T17:34:42.725733Z"
    },
    "scrolled": true
   },
   "outputs": [
    {
     "data": {
      "text/html": [
       "<div>\n",
       "<style scoped>\n",
       "    .dataframe tbody tr th:only-of-type {\n",
       "        vertical-align: middle;\n",
       "    }\n",
       "\n",
       "    .dataframe tbody tr th {\n",
       "        vertical-align: top;\n",
       "    }\n",
       "\n",
       "    .dataframe thead th {\n",
       "        text-align: right;\n",
       "    }\n",
       "</style>\n",
       "<table border=\"1\" class=\"dataframe\">\n",
       "  <thead>\n",
       "    <tr style=\"text-align: right;\">\n",
       "      <th></th>\n",
       "      <th>attributes</th>\n",
       "      <th>min</th>\n",
       "      <th>max</th>\n",
       "      <th>range</th>\n",
       "      <th>mean</th>\n",
       "      <th>median</th>\n",
       "      <th>std</th>\n",
       "      <th>skew</th>\n",
       "      <th>kurtosis</th>\n",
       "    </tr>\n",
       "  </thead>\n",
       "  <tbody>\n",
       "    <tr>\n",
       "      <th>0</th>\n",
       "      <td>store</td>\n",
       "      <td>1.00</td>\n",
       "      <td>45.00</td>\n",
       "      <td>44.0</td>\n",
       "      <td>22.200546</td>\n",
       "      <td>22.00</td>\n",
       "      <td>12.785282</td>\n",
       "      <td>0.077763</td>\n",
       "      <td>-1.146503</td>\n",
       "    </tr>\n",
       "    <tr>\n",
       "      <th>1</th>\n",
       "      <td>dept</td>\n",
       "      <td>1.00</td>\n",
       "      <td>99.00</td>\n",
       "      <td>98.0</td>\n",
       "      <td>44.260317</td>\n",
       "      <td>37.00</td>\n",
       "      <td>30.492018</td>\n",
       "      <td>0.358223</td>\n",
       "      <td>-1.215571</td>\n",
       "    </tr>\n",
       "    <tr>\n",
       "      <th>2</th>\n",
       "      <td>weekly_sales</td>\n",
       "      <td>-4988.94</td>\n",
       "      <td>693099.36</td>\n",
       "      <td>698088.3</td>\n",
       "      <td>15981.258123</td>\n",
       "      <td>7612.03</td>\n",
       "      <td>22711.156583</td>\n",
       "      <td>3.262008</td>\n",
       "      <td>21.491290</td>\n",
       "    </tr>\n",
       "    <tr>\n",
       "      <th>3</th>\n",
       "      <td>size</td>\n",
       "      <td>34875.00</td>\n",
       "      <td>219622.00</td>\n",
       "      <td>184747.0</td>\n",
       "      <td>136727.915739</td>\n",
       "      <td>140167.00</td>\n",
       "      <td>60980.511002</td>\n",
       "      <td>-0.325850</td>\n",
       "      <td>-1.206346</td>\n",
       "    </tr>\n",
       "  </tbody>\n",
       "</table>\n",
       "</div>"
      ],
      "text/plain": [
       "     attributes       min        max     range           mean     median  \\\n",
       "0         store      1.00      45.00      44.0      22.200546      22.00   \n",
       "1          dept      1.00      99.00      98.0      44.260317      37.00   \n",
       "2  weekly_sales  -4988.94  693099.36  698088.3   15981.258123    7612.03   \n",
       "3          size  34875.00  219622.00  184747.0  136727.915739  140167.00   \n",
       "\n",
       "            std      skew   kurtosis  \n",
       "0     12.785282  0.077763  -1.146503  \n",
       "1     30.492018  0.358223  -1.215571  \n",
       "2  22711.156583  3.262008  21.491290  \n",
       "3  60980.511002 -0.325850  -1.206346  "
      ]
     },
     "execution_count": 73,
     "metadata": {},
     "output_type": "execute_result"
    }
   ],
   "source": [
    "# Central Tendency - mean, meadina\n",
    "ct1 = pd.DataFrame( num_attributes.apply( np.mean ) ).T\n",
    "ct2 = pd.DataFrame( num_attributes.apply( np.median ) ).T\n",
    "# dispersion - std, min, max, range, skew, kurtosis\n",
    "d1 = pd.DataFrame( num_attributes.apply( np.std ) ).T\n",
    "d2 = pd.DataFrame( num_attributes.apply( min ) ).T\n",
    "d3 = pd.DataFrame( num_attributes.apply( max ) ).T\n",
    "d4 = pd.DataFrame( num_attributes.apply( lambda x: x.max() - x.min() ) ).T\n",
    "d5 = pd.DataFrame( num_attributes.apply( lambda x: x.skew() ) ).T\n",
    "d6 = pd.DataFrame( num_attributes.apply( lambda x: x.kurtosis() ) ).T\n",
    "\n",
    "# concatenar\n",
    "m = pd.concat( [d2, d3, d4, ct1, ct2, d1, d5, d6] ).T.reset_index()\n",
    "m.columns = ['attributes', 'min', 'max', 'range', 'mean', 'median', 'std', 'skew', 'kurtosis']\n",
    "m"
   ]
  },
  {
   "cell_type": "code",
   "execution_count": 86,
   "id": "081d002f",
   "metadata": {
    "ExecuteTime": {
     "end_time": "2022-01-09T17:36:38.654872Z",
     "start_time": "2022-01-09T17:36:38.379854Z"
    }
   },
   "outputs": [
    {
     "data": {
      "text/plain": [
       "<AxesSubplot:xlabel='weekly_sales'>"
      ]
     },
     "execution_count": 86,
     "metadata": {},
     "output_type": "execute_result"
    },
    {
     "data": {
      "image/png": "[encoded data removed]",
      "text/plain": [
       "<Figure size 432x288 with 1 Axes>"
      ]
     },
     "metadata": {
      "needs_background": "light"
     },
     "output_type": "display_data"
    }
   ],
   "source": [
    "sns.distplot( df1['weekly_sales'], kde=False )"
   ]
  },
  {
   "cell_type": "markdown",
   "id": "e25ddd63",
   "metadata": {},
   "source": [
    "### 1.7.2 Categorical Attributes"
   ]
  },
  {
   "cell_type": "code",
   "execution_count": 75,
   "id": "ff16ba52",
   "metadata": {
    "ExecuteTime": {
     "end_time": "2022-01-09T17:34:45.960973Z",
     "start_time": "2022-01-09T17:34:45.924971Z"
    },
    "scrolled": true
   },
   "outputs": [
    {
     "data": {
      "text/plain": [
       "is_holiday    2\n",
       "type          3\n",
       "dtype: int64"
      ]
     },
     "execution_count": 75,
     "metadata": {},
     "output_type": "execute_result"
    }
   ],
   "source": [
    "cat_attributes.apply( lambda x: x.unique().shape[0] )"
   ]
  },
  {
   "cell_type": "code",
   "execution_count": 94,
   "id": "97a42c52",
   "metadata": {
    "ExecuteTime": {
     "end_time": "2022-01-09T17:42:49.088769Z",
     "start_time": "2022-01-09T17:42:48.756745Z"
    }
   },
   "outputs": [
    {
     "data": {
      "text/plain": [
       "<AxesSubplot:xlabel='type', ylabel='weekly_sales'>"
      ]
     },
     "execution_count": 94,
     "metadata": {},
     "output_type": "execute_result"
    },
    {
     "data": {
      "image/png": "[encoded data removed]",
      "text/plain": [
       "<Figure size 1440x1080 with 2 Axes>"
      ]
     },
     "metadata": {
      "needs_background": "light"
     },
     "output_type": "display_data"
    }
   ],
   "source": [
    "plt.figure(figsize=(20,15))\n",
    "aux1 = df1[(df1['is_holiday'] != '0') & (df1['weekly_sales'] > 100000)]\n",
    "\n",
    "plt.subplot( 1, 2, 1 )\n",
    "sns.boxplot( x='is_holiday', y='weekly_sales', data=aux1 ) \n",
    "\n",
    "plt.subplot( 1, 2, 2 )\n",
    "sns.boxplot( x='type', y='weekly_sales', data=aux1 )"
   ]
  },
  {
   "cell_type": "markdown",
   "id": "cb7783c8",
   "metadata": {},
   "source": [
    "## 2.0 Feature Engineering"
   ]
  },
  {
   "cell_type": "code",
   "execution_count": null,
   "id": "3e727b34",
   "metadata": {},
   "outputs": [],
   "source": [
    "Image('img/')"
   ]
  },
  {
   "cell_type": "markdown",
   "id": "323d7d07",
   "metadata": {},
   "source": [
    "###  2.1 Mapa mental de Hipoteses"
   ]
  },
  {
   "cell_type": "code",
   "execution_count": null,
   "id": "9d7f0d8f",
   "metadata": {},
   "outputs": [],
   "source": []
  },
  {
   "cell_type": "markdown",
   "id": "a9dd30dc",
   "metadata": {},
   "source": [
    "### 2.2 Feature Engineering\n",
    "Agente 1"
   ]
  },
  {
   "cell_type": "markdown",
   "id": "fe51ce79",
   "metadata": {},
   "source": [
    "### 2.3 Filtrando Variaveis"
   ]
  },
  {
   "cell_type": "markdown",
   "id": "111193e1",
   "metadata": {},
   "source": [
    "## 3.0 Analise Exploratória de Dados"
   ]
  },
  {
   "cell_type": "markdown",
   "id": "3254f7dc",
   "metadata": {},
   "source": [
    "### 3.1 Analise Univariada"
   ]
  },
  {
   "cell_type": "markdown",
   "id": "7eb5a76c",
   "metadata": {},
   "source": [
    "### 3.2 Analise Bivariada"
   ]
  }
 ],
 "metadata": {
  "kernelspec": {
   "display_name": "Python 3 (ipykernel)",
   "language": "python",
   "name": "python3"
  },
  "language_info": {
   "codemirror_mode": {
    "name": "ipython",
    "version": 3
   },
   "file_extension": ".py",
   "mimetype": "text/x-python",
   "name": "python",
   "nbconvert_exporter": "python",
   "pygments_lexer": "ipython3",
   "version": "3.8.12"
  }
 },
 "nbformat": 4,
 "nbformat_minor": 5
}
