{
 "cells": [
  {
   "cell_type": "markdown",
   "id": "54a5e882",
   "metadata": {},
   "source": [
    "## 0.0 Imports"
   ]
  },
  {
   "cell_type": "code",
   "execution_count": 2,
   "id": "ede99645",
   "metadata": {
    "ExecuteTime": {
     "end_time": "2022-01-09T21:56:02.568314Z",
     "start_time": "2022-01-09T21:56:00.185772Z"
    }
   },
   "outputs": [],
   "source": [
    "import os\n",
    "\n",
    "import pandas as pd\n",
    "import numpy as np\n",
    "import seaborn as sns\n",
    "import matplotlib.pyplot as plt\n",
    "\n",
    "import inflection\n",
    "\n",
    "from IPython.core.display import HTML\n",
    "from IPython.core.display import Image"
   ]
  },
  {
   "cell_type": "markdown",
   "id": "02e32ef2",
   "metadata": {},
   "source": [
    "### 0.1 Helper Functions"
   ]
  },
  {
   "cell_type": "code",
   "execution_count": 3,
   "id": "843dcaf7",
   "metadata": {
    "ExecuteTime": {
     "end_time": "2022-01-09T21:56:02.584316Z",
     "start_time": "2022-01-09T21:56:02.570315Z"
    }
   },
   "outputs": [],
   "source": [
    "def jupyter_settings(): \n",
    "    %matplotlib inline \n",
    "    %pylab inline\n",
    "    plt.style.use( 'bmh' )\n",
    "    plt.rcParams['figure.figsize'] = [24, 20]\n",
    "    plt.rcParams['font.size'] = 24\n",
    "    display( HTML( '<style>.container { width:100% !important; }</style>') ) \n",
    "    pd.options.display.max_columns = None\n",
    "    pd.options.display.max_rows = 1000\n",
    "    pd.set_option( 'display.expand_frame_repr', False ) \n",
    "    sns.set()"
   ]
  },
  {
   "cell_type": "markdown",
   "id": "f1a5c47f",
   "metadata": {},
   "source": [
    "### 0.2 Loading Data"
   ]
  },
  {
   "cell_type": "code",
   "execution_count": 4,
   "id": "f8b204a7",
   "metadata": {
    "ExecuteTime": {
     "end_time": "2022-01-09T21:56:03.000347Z",
     "start_time": "2022-01-09T21:56:02.585317Z"
    },
    "hide_input": false,
    "scrolled": false
   },
   "outputs": [],
   "source": [
    "df_store_raw = pd.read_csv('data/train.csv', low_memory=False)\n",
    "df_features_raw = pd.read_csv('data/stores.csv', low_memory=False)\n",
    "\n",
    "#merge\n",
    "df_raw = pd.merge(df_store_raw, df_features_raw, on='Store', how='left')"
   ]
  },
  {
   "cell_type": "code",
   "execution_count": 5,
   "id": "04c240ce",
   "metadata": {
    "ExecuteTime": {
     "end_time": "2022-01-09T21:56:03.048351Z",
     "start_time": "2022-01-09T21:56:03.002347Z"
    }
   },
   "outputs": [
    {
     "data": {
      "text/html": [
       "<div>\n",
       "<style scoped>\n",
       "    .dataframe tbody tr th:only-of-type {\n",
       "        vertical-align: middle;\n",
       "    }\n",
       "\n",
       "    .dataframe tbody tr th {\n",
       "        vertical-align: top;\n",
       "    }\n",
       "\n",
       "    .dataframe thead th {\n",
       "        text-align: right;\n",
       "    }\n",
       "</style>\n",
       "<table border=\"1\" class=\"dataframe\">\n",
       "  <thead>\n",
       "    <tr style=\"text-align: right;\">\n",
       "      <th></th>\n",
       "      <th>Store</th>\n",
       "      <th>Dept</th>\n",
       "      <th>Date</th>\n",
       "      <th>Weekly_Sales</th>\n",
       "      <th>IsHoliday</th>\n",
       "      <th>Type</th>\n",
       "      <th>Size</th>\n",
       "    </tr>\n",
       "  </thead>\n",
       "  <tbody>\n",
       "    <tr>\n",
       "      <th>353861</th>\n",
       "      <td>38</td>\n",
       "      <td>2</td>\n",
       "      <td>2010-02-26</td>\n",
       "      <td>10126.21</td>\n",
       "      <td>False</td>\n",
       "      <td>C</td>\n",
       "      <td>39690</td>\n",
       "    </tr>\n",
       "  </tbody>\n",
       "</table>\n",
       "</div>"
      ],
      "text/plain": [
       "        Store  Dept        Date  Weekly_Sales  IsHoliday Type   Size\n",
       "353861     38     2  2010-02-26      10126.21      False    C  39690"
      ]
     },
     "execution_count": 5,
     "metadata": {},
     "output_type": "execute_result"
    }
   ],
   "source": [
    "df_raw.sample()"
   ]
  },
  {
   "cell_type": "markdown",
   "id": "592bcfa3",
   "metadata": {},
   "source": [
    "## 1.0 Descrição Dos Dados"
   ]
  },
  {
   "cell_type": "code",
   "execution_count": 6,
   "id": "4c7d1979",
   "metadata": {
    "ExecuteTime": {
     "end_time": "2022-01-09T21:56:03.112355Z",
     "start_time": "2022-01-09T21:56:03.049350Z"
    }
   },
   "outputs": [],
   "source": [
    "df1 = df_raw.copy()"
   ]
  },
  {
   "cell_type": "code",
   "execution_count": 7,
   "id": "7c901ee4",
   "metadata": {
    "ExecuteTime": {
     "end_time": "2022-01-09T21:56:03.224363Z",
     "start_time": "2022-01-09T21:56:03.113356Z"
    }
   },
   "outputs": [
    {
     "data": {
      "text/plain": [
       "Index(['Store', 'Dept', 'Date', 'Weekly_Sales', 'IsHoliday', 'Type', 'Size'], dtype='object')"
      ]
     },
     "execution_count": 7,
     "metadata": {},
     "output_type": "execute_result"
    }
   ],
   "source": [
    "df1.columns"
   ]
  },
  {
   "cell_type": "markdown",
   "id": "23d27333",
   "metadata": {},
   "source": [
    "### 1.1 Rename Columns"
   ]
  },
  {
   "cell_type": "code",
   "execution_count": 8,
   "id": "5212321f",
   "metadata": {
    "ExecuteTime": {
     "end_time": "2022-01-09T21:56:03.304370Z",
     "start_time": "2022-01-09T21:56:03.226364Z"
    }
   },
   "outputs": [],
   "source": [
    "cols_old = ['Store', 'Dept', 'Date', 'Weekly_Sales', 'IsHoliday', 'Type', 'Size']\n",
    "\n",
    "snakecase = lambda x: inflection.underscore(x)\n",
    "\n",
    "cols_new = list(map (snakecase, cols_old))\n",
    "\n",
    "#rename\n",
    "df1.columns = cols_new"
   ]
  },
  {
   "cell_type": "code",
   "execution_count": 9,
   "id": "f505a7f9",
   "metadata": {
    "ExecuteTime": {
     "end_time": "2022-01-09T21:56:03.416379Z",
     "start_time": "2022-01-09T21:56:03.306371Z"
    }
   },
   "outputs": [
    {
     "data": {
      "text/html": [
       "<div>\n",
       "<style scoped>\n",
       "    .dataframe tbody tr th:only-of-type {\n",
       "        vertical-align: middle;\n",
       "    }\n",
       "\n",
       "    .dataframe tbody tr th {\n",
       "        vertical-align: top;\n",
       "    }\n",
       "\n",
       "    .dataframe thead th {\n",
       "        text-align: right;\n",
       "    }\n",
       "</style>\n",
       "<table border=\"1\" class=\"dataframe\">\n",
       "  <thead>\n",
       "    <tr style=\"text-align: right;\">\n",
       "      <th></th>\n",
       "      <th>store</th>\n",
       "      <th>dept</th>\n",
       "      <th>date</th>\n",
       "      <th>weekly_sales</th>\n",
       "      <th>is_holiday</th>\n",
       "      <th>type</th>\n",
       "      <th>size</th>\n",
       "    </tr>\n",
       "  </thead>\n",
       "  <tbody>\n",
       "    <tr>\n",
       "      <th>13542</th>\n",
       "      <td>2</td>\n",
       "      <td>25</td>\n",
       "      <td>2010-11-05</td>\n",
       "      <td>17019.23</td>\n",
       "      <td>False</td>\n",
       "      <td>A</td>\n",
       "      <td>202307</td>\n",
       "    </tr>\n",
       "  </tbody>\n",
       "</table>\n",
       "</div>"
      ],
      "text/plain": [
       "       store  dept        date  weekly_sales  is_holiday type    size\n",
       "13542      2    25  2010-11-05      17019.23       False    A  202307"
      ]
     },
     "execution_count": 9,
     "metadata": {},
     "output_type": "execute_result"
    }
   ],
   "source": [
    "df1.sample()"
   ]
  },
  {
   "cell_type": "markdown",
   "id": "73daf4e5",
   "metadata": {},
   "source": [
    "### 1.2 Data Dimensions"
   ]
  },
  {
   "cell_type": "code",
   "execution_count": 10,
   "id": "f9e780e4",
   "metadata": {
    "ExecuteTime": {
     "end_time": "2022-01-09T21:56:03.512385Z",
     "start_time": "2022-01-09T21:56:03.419379Z"
    }
   },
   "outputs": [
    {
     "name": "stdout",
     "output_type": "stream",
     "text": [
      "Number of Rows: 421570\n",
      "Number of Cols: 7\n"
     ]
    }
   ],
   "source": [
    "print('Number of Rows: {}'.format(df1.shape[0]))\n",
    "print('Number of Cols: {}'.format(df1.shape[1]))"
   ]
  },
  {
   "cell_type": "markdown",
   "id": "0ae5075b",
   "metadata": {},
   "source": [
    "### 1.3 Data Types"
   ]
  },
  {
   "cell_type": "code",
   "execution_count": 11,
   "id": "a1bf02d6",
   "metadata": {
    "ExecuteTime": {
     "end_time": "2022-01-09T21:56:03.656395Z",
     "start_time": "2022-01-09T21:56:03.645395Z"
    }
   },
   "outputs": [
    {
     "data": {
      "text/plain": [
       "store             int64\n",
       "dept              int64\n",
       "date             object\n",
       "weekly_sales    float64\n",
       "is_holiday         bool\n",
       "type             object\n",
       "size              int64\n",
       "dtype: object"
      ]
     },
     "execution_count": 11,
     "metadata": {},
     "output_type": "execute_result"
    }
   ],
   "source": [
    "df1.dtypes"
   ]
  },
  {
   "cell_type": "markdown",
   "id": "de3adccb",
   "metadata": {},
   "source": [
    "### 1.4 Check NA"
   ]
  },
  {
   "cell_type": "code",
   "execution_count": 12,
   "id": "6bbc8e24",
   "metadata": {
    "ExecuteTime": {
     "end_time": "2022-01-09T21:56:04.119432Z",
     "start_time": "2022-01-09T21:56:04.071427Z"
    },
    "scrolled": true
   },
   "outputs": [
    {
     "data": {
      "text/plain": [
       "store           0\n",
       "dept            0\n",
       "date            0\n",
       "weekly_sales    0\n",
       "is_holiday      0\n",
       "type            0\n",
       "size            0\n",
       "dtype: int64"
      ]
     },
     "execution_count": 12,
     "metadata": {},
     "output_type": "execute_result"
    }
   ],
   "source": [
    "df1.isna().sum()"
   ]
  },
  {
   "cell_type": "markdown",
   "id": "55289d38",
   "metadata": {},
   "source": [
    "### Fillout Na"
   ]
  },
  {
   "cell_type": "markdown",
   "id": "1b24b77a",
   "metadata": {},
   "source": [
    "### 1.6 Change Types"
   ]
  },
  {
   "cell_type": "code",
   "execution_count": 13,
   "id": "9c96e4c4",
   "metadata": {
    "ExecuteTime": {
     "end_time": "2022-01-09T21:56:04.759478Z",
     "start_time": "2022-01-09T21:56:04.739478Z"
    }
   },
   "outputs": [
    {
     "data": {
      "text/plain": [
       "store             int64\n",
       "dept              int64\n",
       "date             object\n",
       "weekly_sales    float64\n",
       "is_holiday         bool\n",
       "type             object\n",
       "size              int64\n",
       "dtype: object"
      ]
     },
     "execution_count": 13,
     "metadata": {},
     "output_type": "execute_result"
    }
   ],
   "source": [
    "df1.dtypes"
   ]
  },
  {
   "cell_type": "code",
   "execution_count": 14,
   "id": "ab56ac7d",
   "metadata": {
    "ExecuteTime": {
     "end_time": "2022-01-09T21:56:04.951492Z",
     "start_time": "2022-01-09T21:56:04.883487Z"
    }
   },
   "outputs": [],
   "source": [
    "df1['date'] = pd.to_datetime(df1['date'])"
   ]
  },
  {
   "cell_type": "code",
   "execution_count": 15,
   "id": "7a713edd",
   "metadata": {
    "ExecuteTime": {
     "end_time": "2022-01-09T21:56:05.095503Z",
     "start_time": "2022-01-09T21:56:05.079503Z"
    }
   },
   "outputs": [
    {
     "data": {
      "text/plain": [
       "store                    int64\n",
       "dept                     int64\n",
       "date            datetime64[ns]\n",
       "weekly_sales           float64\n",
       "is_holiday                bool\n",
       "type                    object\n",
       "size                     int64\n",
       "dtype: object"
      ]
     },
     "execution_count": 15,
     "metadata": {},
     "output_type": "execute_result"
    }
   ],
   "source": [
    "df1.dtypes"
   ]
  },
  {
   "cell_type": "markdown",
   "id": "f07731c1",
   "metadata": {},
   "source": [
    "### 1.7 Descriptive Statistical"
   ]
  },
  {
   "cell_type": "code",
   "execution_count": 16,
   "id": "44dcfe55",
   "metadata": {
    "ExecuteTime": {
     "end_time": "2022-01-09T21:56:05.495533Z",
     "start_time": "2022-01-09T21:56:05.460531Z"
    }
   },
   "outputs": [],
   "source": [
    "num_attributes = df1.select_dtypes( include=['int64', 'float64'] )\n",
    "cat_attributes = df1.select_dtypes( exclude=['int64', 'float64', 'datetime64[ns]'] )"
   ]
  },
  {
   "cell_type": "markdown",
   "id": "5eb463a9",
   "metadata": {},
   "source": [
    "### 1.7.1 Numerical Attributes"
   ]
  },
  {
   "cell_type": "code",
   "execution_count": 17,
   "id": "28717b20",
   "metadata": {
    "ExecuteTime": {
     "end_time": "2022-01-09T21:56:06.438810Z",
     "start_time": "2022-01-09T21:56:05.846560Z"
    },
    "scrolled": true
   },
   "outputs": [
    {
     "data": {
      "text/html": [
       "<div>\n",
       "<style scoped>\n",
       "    .dataframe tbody tr th:only-of-type {\n",
       "        vertical-align: middle;\n",
       "    }\n",
       "\n",
       "    .dataframe tbody tr th {\n",
       "        vertical-align: top;\n",
       "    }\n",
       "\n",
       "    .dataframe thead th {\n",
       "        text-align: right;\n",
       "    }\n",
       "</style>\n",
       "<table border=\"1\" class=\"dataframe\">\n",
       "  <thead>\n",
       "    <tr style=\"text-align: right;\">\n",
       "      <th></th>\n",
       "      <th>attributes</th>\n",
       "      <th>min</th>\n",
       "      <th>max</th>\n",
       "      <th>range</th>\n",
       "      <th>mean</th>\n",
       "      <th>median</th>\n",
       "      <th>std</th>\n",
       "      <th>skew</th>\n",
       "      <th>kurtosis</th>\n",
       "    </tr>\n",
       "  </thead>\n",
       "  <tbody>\n",
       "    <tr>\n",
       "      <th>0</th>\n",
       "      <td>store</td>\n",
       "      <td>1.00</td>\n",
       "      <td>45.00</td>\n",
       "      <td>44.0</td>\n",
       "      <td>22.200546</td>\n",
       "      <td>22.00</td>\n",
       "      <td>12.785282</td>\n",
       "      <td>0.077763</td>\n",
       "      <td>-1.146503</td>\n",
       "    </tr>\n",
       "    <tr>\n",
       "      <th>1</th>\n",
       "      <td>dept</td>\n",
       "      <td>1.00</td>\n",
       "      <td>99.00</td>\n",
       "      <td>98.0</td>\n",
       "      <td>44.260317</td>\n",
       "      <td>37.00</td>\n",
       "      <td>30.492018</td>\n",
       "      <td>0.358223</td>\n",
       "      <td>-1.215571</td>\n",
       "    </tr>\n",
       "    <tr>\n",
       "      <th>2</th>\n",
       "      <td>weekly_sales</td>\n",
       "      <td>-4988.94</td>\n",
       "      <td>693099.36</td>\n",
       "      <td>698088.3</td>\n",
       "      <td>15981.258123</td>\n",
       "      <td>7612.03</td>\n",
       "      <td>22711.156583</td>\n",
       "      <td>3.262008</td>\n",
       "      <td>21.491290</td>\n",
       "    </tr>\n",
       "    <tr>\n",
       "      <th>3</th>\n",
       "      <td>size</td>\n",
       "      <td>34875.00</td>\n",
       "      <td>219622.00</td>\n",
       "      <td>184747.0</td>\n",
       "      <td>136727.915739</td>\n",
       "      <td>140167.00</td>\n",
       "      <td>60980.511002</td>\n",
       "      <td>-0.325850</td>\n",
       "      <td>-1.206346</td>\n",
       "    </tr>\n",
       "  </tbody>\n",
       "</table>\n",
       "</div>"
      ],
      "text/plain": [
       "     attributes       min        max     range           mean     median  \\\n",
       "0         store      1.00      45.00      44.0      22.200546      22.00   \n",
       "1          dept      1.00      99.00      98.0      44.260317      37.00   \n",
       "2  weekly_sales  -4988.94  693099.36  698088.3   15981.258123    7612.03   \n",
       "3          size  34875.00  219622.00  184747.0  136727.915739  140167.00   \n",
       "\n",
       "            std      skew   kurtosis  \n",
       "0     12.785282  0.077763  -1.146503  \n",
       "1     30.492018  0.358223  -1.215571  \n",
       "2  22711.156583  3.262008  21.491290  \n",
       "3  60980.511002 -0.325850  -1.206346  "
      ]
     },
     "execution_count": 17,
     "metadata": {},
     "output_type": "execute_result"
    }
   ],
   "source": [
    "# Central Tendency - mean, meadina\n",
    "ct1 = pd.DataFrame( num_attributes.apply( np.mean ) ).T\n",
    "ct2 = pd.DataFrame( num_attributes.apply( np.median ) ).T\n",
    "# dispersion - std, min, max, range, skew, kurtosis\n",
    "d1 = pd.DataFrame( num_attributes.apply( np.std ) ).T\n",
    "d2 = pd.DataFrame( num_attributes.apply( min ) ).T\n",
    "d3 = pd.DataFrame( num_attributes.apply( max ) ).T\n",
    "d4 = pd.DataFrame( num_attributes.apply( lambda x: x.max() - x.min() ) ).T\n",
    "d5 = pd.DataFrame( num_attributes.apply( lambda x: x.skew() ) ).T\n",
    "d6 = pd.DataFrame( num_attributes.apply( lambda x: x.kurtosis() ) ).T\n",
    "\n",
    "# concatenar\n",
    "m = pd.concat( [d2, d3, d4, ct1, ct2, d1, d5, d6] ).T.reset_index()\n",
    "m.columns = ['attributes', 'min', 'max', 'range', 'mean', 'median', 'std', 'skew', 'kurtosis']\n",
    "m"
   ]
  },
  {
   "cell_type": "code",
   "execution_count": 18,
   "id": "081d002f",
   "metadata": {
    "ExecuteTime": {
     "end_time": "2022-01-09T21:56:06.773835Z",
     "start_time": "2022-01-09T21:56:06.440812Z"
    }
   },
   "outputs": [
    {
     "name": "stderr",
     "output_type": "stream",
     "text": [
      "C:\\Users\\AMD\\anaconda3\\envs\\walmart_sales_store\\lib\\site-packages\\seaborn\\distributions.py:2619: FutureWarning: `distplot` is a deprecated function and will be removed in a future version. Please adapt your code to use either `displot` (a figure-level function with similar flexibility) or `histplot` (an axes-level function for histograms).\n",
      "  warnings.warn(msg, FutureWarning)\n"
     ]
    },
    {
     "data": {
      "text/plain": [
       "<AxesSubplot:xlabel='weekly_sales'>"
      ]
     },
     "execution_count": 18,
     "metadata": {},
     "output_type": "execute_result"
    },
    {
     "data": {
      "image/png": "[encoded data removed]",
      "text/plain": [
       "<Figure size 432x288 with 1 Axes>"
      ]
     },
     "metadata": {
      "needs_background": "light"
     },
     "output_type": "display_data"
    }
   ],
   "source": [
    "sns.distplot( df1['weekly_sales'], kde=False )"
   ]
  },
  {
   "cell_type": "markdown",
   "id": "e25ddd63",
   "metadata": {},
   "source": [
    "### 1.7.2 Categorical Attributes"
   ]
  },
  {
   "cell_type": "code",
   "execution_count": 19,
   "id": "ff16ba52",
   "metadata": {
    "ExecuteTime": {
     "end_time": "2022-01-09T21:56:06.808838Z",
     "start_time": "2022-01-09T21:56:06.774835Z"
    },
    "scrolled": true
   },
   "outputs": [
    {
     "data": {
      "text/plain": [
       "is_holiday    2\n",
       "type          3\n",
       "dtype: int64"
      ]
     },
     "execution_count": 19,
     "metadata": {},
     "output_type": "execute_result"
    }
   ],
   "source": [
    "cat_attributes.apply( lambda x: x.unique().shape[0] )"
   ]
  },
  {
   "cell_type": "code",
   "execution_count": 20,
   "id": "97a42c52",
   "metadata": {
    "ExecuteTime": {
     "end_time": "2022-01-09T21:56:07.269872Z",
     "start_time": "2022-01-09T21:56:06.810838Z"
    }
   },
   "outputs": [
    {
     "data": {
      "text/plain": [
       "<AxesSubplot:xlabel='type', ylabel='weekly_sales'>"
      ]
     },
     "execution_count": 20,
     "metadata": {},
     "output_type": "execute_result"
    },
    {
     "data": {
      "image/png": "[encoded data removed]",
      "text/plain": [
       "<Figure size 1440x1080 with 2 Axes>"
      ]
     },
     "metadata": {
      "needs_background": "light"
     },
     "output_type": "display_data"
    }
   ],
   "source": [
    "plt.figure(figsize=(20,15))\n",
    "aux1 = df1[(df1['is_holiday'] != '0') & (df1['weekly_sales'] > 100000)]\n",
    "\n",
    "plt.subplot( 1, 2, 1 )\n",
    "sns.boxplot( x='is_holiday', y='weekly_sales', data=aux1 ) \n",
    "\n",
    "plt.subplot( 1, 2, 2 )\n",
    "sns.boxplot( x='type', y='weekly_sales', data=aux1 )"
   ]
  },
  {
   "cell_type": "markdown",
   "id": "cb7783c8",
   "metadata": {},
   "source": [
    "## 2.0 Feature Engineering"
   ]
  },
  {
   "cell_type": "code",
   "execution_count": 21,
   "id": "6c91b026",
   "metadata": {
    "ExecuteTime": {
     "end_time": "2022-01-09T21:56:07.285873Z",
     "start_time": "2022-01-09T21:56:07.271874Z"
    }
   },
   "outputs": [],
   "source": [
    "df2 = df1.copy()"
   ]
  },
  {
   "cell_type": "markdown",
   "id": "323d7d07",
   "metadata": {
    "hide_input": true
   },
   "source": [
    "###  2.1 Mapa mental de Hipoteses"
   ]
  },
  {
   "cell_type": "code",
   "execution_count": 22,
   "id": "5c32f80c",
   "metadata": {
    "ExecuteTime": {
     "end_time": "2022-01-09T21:56:07.477887Z",
     "start_time": "2022-01-09T21:56:07.446886Z"
    },
    "scrolled": true
   },
   "outputs": [
    {
     "data": {
      "image/png": "[encoded data removed]",
      "text/plain": [
       "<IPython.core.display.Image object>"
      ]
     },
     "execution_count": 22,
     "metadata": {},
     "output_type": "execute_result"
    }
   ],
   "source": [
    "Image('img/MindMapHypothesis.png')"
   ]
  },
  {
   "cell_type": "markdown",
   "id": "b0f4e47e",
   "metadata": {
    "hide_input": true
   },
   "source": [
    "###  2.1 Criação das Hipoteses"
   ]
  },
  {
   "cell_type": "markdown",
   "id": "a9dd30dc",
   "metadata": {},
   "source": [
    "#### **2.1** Hipotese Loja"
   ]
  },
  {
   "cell_type": "markdown",
   "id": "7ae65d46",
   "metadata": {},
   "source": [
    "**1.** Lojas de maior tamanho deveriam vender mais."
   ]
  },
  {
   "cell_type": "markdown",
   "id": "fba98ba6",
   "metadata": {},
   "source": [
    "**2.** Lojas com maior sortimento de produtos deveriam vender mais"
   ]
  },
  {
   "cell_type": "markdown",
   "id": "638b3e11",
   "metadata": {},
   "source": [
    "**3.** Lojas com promoções deveriam vender mais"
   ]
  },
  {
   "cell_type": "markdown",
   "id": "63a7debb",
   "metadata": {},
   "source": [
    "#### 2.1 Hipotese Tempo "
   ]
  },
  {
   "cell_type": "markdown",
   "id": "3911d073",
   "metadata": {},
   "source": [
    "**1.** Lojas deveriam vender mais aos finais de semana"
   ]
  },
  {
   "cell_type": "markdown",
   "id": "bc1f1ae9",
   "metadata": {},
   "source": [
    "**2.** Lojas deveriam vender menos aos feriados"
   ]
  },
  {
   "cell_type": "markdown",
   "id": "21d309f2",
   "metadata": {},
   "source": [
    "**3.** Lojas vendem mais no primeiro semestre do ano"
   ]
  },
  {
   "cell_type": "markdown",
   "id": "9632fae4",
   "metadata": {},
   "source": [
    "### 2.2 Lista final de Hipoteses"
   ]
  },
  {
   "cell_type": "markdown",
   "id": "e889f711",
   "metadata": {},
   "source": [
    "**1.** Lojas de maior tamanho deveriam vender mais.\n",
    "\n",
    "**2.** Lojas com maior sortimento de produtos deveriam vender mais\n",
    "\n",
    "**3.** Lojas com promoções deveriam vender mais\n",
    "\n",
    "\n",
    "\n",
    "**4.** Lojas deveriam vender mais aos finais de semana\n",
    "\n",
    "**5.** Lojas deveriam vender menos aos feriados\n",
    "\n",
    "**6.** Lojas vendem mais no primeiro semestre do ano"
   ]
  },
  {
   "cell_type": "markdown",
   "id": "fe51ce79",
   "metadata": {},
   "source": [
    "### 2.3 Feature Engineering"
   ]
  },
  {
   "cell_type": "code",
   "execution_count": 23,
   "id": "07ef8caf",
   "metadata": {
    "ExecuteTime": {
     "end_time": "2022-01-09T21:56:14.805555Z",
     "start_time": "2022-01-09T21:56:10.324534Z"
    },
    "scrolled": false
   },
   "outputs": [
    {
     "name": "stderr",
     "output_type": "stream",
     "text": [
      "C:\\Users\\AMD\\AppData\\Local\\Temp/ipykernel_5184/2725536907.py:8: FutureWarning: Series.dt.weekofyear and Series.dt.week have been deprecated.  Please use Series.dt.isocalendar().week instead.\n",
      "  df2['week_of_year'] = df2['date'].dt.weekofyear\n"
     ]
    }
   ],
   "source": [
    "# year\n",
    "df2['year'] = df2['date'].dt.year\n",
    "# month\n",
    "df2['month'] = df2['date'].dt.month\n",
    "# day\n",
    "df2['day'] = df2['date'].dt.day\n",
    "# week of year\n",
    "df2['week_of_year'] = df2['date'].dt.weekofyear\n",
    "# year week\n",
    "df2['year_week'] = df2['date'].dt.strftime( '%Y-%W' )\n",
    "\n",
    "# assortment\n",
    "df2['type'] = df2['type'].apply(lambda x: 'basic' if x == 'a' else \n",
    "                                          'extra' if x == 'b' else 'extended')"
   ]
  },
  {
   "cell_type": "markdown",
   "id": "111193e1",
   "metadata": {},
   "source": [
    "## 3.0 Filtragem de Variaveis"
   ]
  },
  {
   "cell_type": "code",
   "execution_count": 49,
   "id": "10fd6003",
   "metadata": {
    "ExecuteTime": {
     "end_time": "2022-01-09T22:19:40.429985Z",
     "start_time": "2022-01-09T22:19:40.406984Z"
    }
   },
   "outputs": [],
   "source": [
    "df3 = df2.copy()"
   ]
  },
  {
   "cell_type": "markdown",
   "id": "3254f7dc",
   "metadata": {},
   "source": [
    "### 3.1 Filtragem das Linha"
   ]
  },
  {
   "cell_type": "code",
   "execution_count": 50,
   "id": "067ed829",
   "metadata": {
    "ExecuteTime": {
     "end_time": "2022-01-09T22:19:41.101036Z",
     "start_time": "2022-01-09T22:19:41.083035Z"
    }
   },
   "outputs": [],
   "source": [
    "df3 = df3['weekly_sales'] > 0"
   ]
  },
  {
   "cell_type": "markdown",
   "id": "7eb5a76c",
   "metadata": {},
   "source": [
    "### 3.2 Seleção das Colunas"
   ]
  },
  {
   "cell_type": "code",
   "execution_count": 51,
   "id": "e881dcaf",
   "metadata": {
    "ExecuteTime": {
     "end_time": "2022-01-09T22:19:41.469063Z",
     "start_time": "2022-01-09T22:19:41.434062Z"
    }
   },
   "outputs": [
    {
     "ename": "ValueError",
     "evalue": "No axis named 1 for object type Series",
     "output_type": "error",
     "traceback": [
      "\u001b[1;31m---------------------------------------------------------------------------\u001b[0m",
      "\u001b[1;31mKeyError\u001b[0m                                  Traceback (most recent call last)",
      "\u001b[1;32m~\\anaconda3\\envs\\walmart_sales_store\\lib\\site-packages\\pandas\\core\\generic.py\u001b[0m in \u001b[0;36m_get_axis_number\u001b[1;34m(cls, axis)\u001b[0m\n\u001b[0;32m    545\u001b[0m         \u001b[1;32mtry\u001b[0m\u001b[1;33m:\u001b[0m\u001b[1;33m\u001b[0m\u001b[1;33m\u001b[0m\u001b[0m\n\u001b[1;32m--> 546\u001b[1;33m             \u001b[1;32mreturn\u001b[0m \u001b[0mcls\u001b[0m\u001b[1;33m.\u001b[0m\u001b[0m_AXIS_TO_AXIS_NUMBER\u001b[0m\u001b[1;33m[\u001b[0m\u001b[0maxis\u001b[0m\u001b[1;33m]\u001b[0m\u001b[1;33m\u001b[0m\u001b[1;33m\u001b[0m\u001b[0m\n\u001b[0m\u001b[0;32m    547\u001b[0m         \u001b[1;32mexcept\u001b[0m \u001b[0mKeyError\u001b[0m\u001b[1;33m:\u001b[0m\u001b[1;33m\u001b[0m\u001b[1;33m\u001b[0m\u001b[0m\n",
      "\u001b[1;31mKeyError\u001b[0m: 1",
      "\nDuring handling of the above exception, another exception occurred:\n",
      "\u001b[1;31mValueError\u001b[0m                                Traceback (most recent call last)",
      "\u001b[1;32m~\\AppData\\Local\\Temp/ipykernel_5184/2956262648.py\u001b[0m in \u001b[0;36m<module>\u001b[1;34m\u001b[0m\n\u001b[0;32m      1\u001b[0m \u001b[0mcols_drop\u001b[0m \u001b[1;33m=\u001b[0m \u001b[1;33m[\u001b[0m\u001b[1;34m'dept'\u001b[0m\u001b[1;33m]\u001b[0m\u001b[1;33m\u001b[0m\u001b[1;33m\u001b[0m\u001b[0m\n\u001b[1;32m----> 2\u001b[1;33m \u001b[0mdf3\u001b[0m \u001b[1;33m=\u001b[0m \u001b[0mdf3\u001b[0m\u001b[1;33m.\u001b[0m\u001b[0mdrop\u001b[0m\u001b[1;33m(\u001b[0m\u001b[0mcols_drop\u001b[0m\u001b[1;33m,\u001b[0m \u001b[0maxis\u001b[0m\u001b[1;33m=\u001b[0m\u001b[1;36m1\u001b[0m\u001b[1;33m)\u001b[0m\u001b[1;33m\u001b[0m\u001b[1;33m\u001b[0m\u001b[0m\n\u001b[0m",
      "\u001b[1;32m~\\anaconda3\\envs\\walmart_sales_store\\lib\\site-packages\\pandas\\util\\_decorators.py\u001b[0m in \u001b[0;36mwrapper\u001b[1;34m(*args, **kwargs)\u001b[0m\n\u001b[0;32m    309\u001b[0m                     \u001b[0mstacklevel\u001b[0m\u001b[1;33m=\u001b[0m\u001b[0mstacklevel\u001b[0m\u001b[1;33m,\u001b[0m\u001b[1;33m\u001b[0m\u001b[1;33m\u001b[0m\u001b[0m\n\u001b[0;32m    310\u001b[0m                 )\n\u001b[1;32m--> 311\u001b[1;33m             \u001b[1;32mreturn\u001b[0m \u001b[0mfunc\u001b[0m\u001b[1;33m(\u001b[0m\u001b[1;33m*\u001b[0m\u001b[0margs\u001b[0m\u001b[1;33m,\u001b[0m \u001b[1;33m**\u001b[0m\u001b[0mkwargs\u001b[0m\u001b[1;33m)\u001b[0m\u001b[1;33m\u001b[0m\u001b[1;33m\u001b[0m\u001b[0m\n\u001b[0m\u001b[0;32m    312\u001b[0m \u001b[1;33m\u001b[0m\u001b[0m\n\u001b[0;32m    313\u001b[0m         \u001b[1;32mreturn\u001b[0m \u001b[0mwrapper\u001b[0m\u001b[1;33m\u001b[0m\u001b[1;33m\u001b[0m\u001b[0m\n",
      "\u001b[1;32m~\\anaconda3\\envs\\walmart_sales_store\\lib\\site-packages\\pandas\\core\\series.py\u001b[0m in \u001b[0;36mdrop\u001b[1;34m(self, labels, axis, index, columns, level, inplace, errors)\u001b[0m\n\u001b[0;32m   4677\u001b[0m         \u001b[0mdtype\u001b[0m\u001b[1;33m:\u001b[0m \u001b[0mfloat64\u001b[0m\u001b[1;33m\u001b[0m\u001b[1;33m\u001b[0m\u001b[0m\n\u001b[0;32m   4678\u001b[0m         \"\"\"\n\u001b[1;32m-> 4679\u001b[1;33m         return super().drop(\n\u001b[0m\u001b[0;32m   4680\u001b[0m             \u001b[0mlabels\u001b[0m\u001b[1;33m=\u001b[0m\u001b[0mlabels\u001b[0m\u001b[1;33m,\u001b[0m\u001b[1;33m\u001b[0m\u001b[1;33m\u001b[0m\u001b[0m\n\u001b[0;32m   4681\u001b[0m             \u001b[0maxis\u001b[0m\u001b[1;33m=\u001b[0m\u001b[0maxis\u001b[0m\u001b[1;33m,\u001b[0m\u001b[1;33m\u001b[0m\u001b[1;33m\u001b[0m\u001b[0m\n",
      "\u001b[1;32m~\\anaconda3\\envs\\walmart_sales_store\\lib\\site-packages\\pandas\\core\\generic.py\u001b[0m in \u001b[0;36mdrop\u001b[1;34m(self, labels, axis, index, columns, level, inplace, errors)\u001b[0m\n\u001b[0;32m   4135\u001b[0m             \u001b[1;32mif\u001b[0m \u001b[0mindex\u001b[0m \u001b[1;32mis\u001b[0m \u001b[1;32mnot\u001b[0m \u001b[1;32mNone\u001b[0m \u001b[1;32mor\u001b[0m \u001b[0mcolumns\u001b[0m \u001b[1;32mis\u001b[0m \u001b[1;32mnot\u001b[0m \u001b[1;32mNone\u001b[0m\u001b[1;33m:\u001b[0m\u001b[1;33m\u001b[0m\u001b[1;33m\u001b[0m\u001b[0m\n\u001b[0;32m   4136\u001b[0m                 \u001b[1;32mraise\u001b[0m \u001b[0mValueError\u001b[0m\u001b[1;33m(\u001b[0m\u001b[1;34m\"Cannot specify both 'labels' and 'index'/'columns'\"\u001b[0m\u001b[1;33m)\u001b[0m\u001b[1;33m\u001b[0m\u001b[1;33m\u001b[0m\u001b[0m\n\u001b[1;32m-> 4137\u001b[1;33m             \u001b[0maxis_name\u001b[0m \u001b[1;33m=\u001b[0m \u001b[0mself\u001b[0m\u001b[1;33m.\u001b[0m\u001b[0m_get_axis_name\u001b[0m\u001b[1;33m(\u001b[0m\u001b[0maxis\u001b[0m\u001b[1;33m)\u001b[0m\u001b[1;33m\u001b[0m\u001b[1;33m\u001b[0m\u001b[0m\n\u001b[0m\u001b[0;32m   4138\u001b[0m             \u001b[0maxes\u001b[0m \u001b[1;33m=\u001b[0m \u001b[1;33m{\u001b[0m\u001b[0maxis_name\u001b[0m\u001b[1;33m:\u001b[0m \u001b[0mlabels\u001b[0m\u001b[1;33m}\u001b[0m\u001b[1;33m\u001b[0m\u001b[1;33m\u001b[0m\u001b[0m\n\u001b[0;32m   4139\u001b[0m         \u001b[1;32melif\u001b[0m \u001b[0mindex\u001b[0m \u001b[1;32mis\u001b[0m \u001b[1;32mnot\u001b[0m \u001b[1;32mNone\u001b[0m \u001b[1;32mor\u001b[0m \u001b[0mcolumns\u001b[0m \u001b[1;32mis\u001b[0m \u001b[1;32mnot\u001b[0m \u001b[1;32mNone\u001b[0m\u001b[1;33m:\u001b[0m\u001b[1;33m\u001b[0m\u001b[1;33m\u001b[0m\u001b[0m\n",
      "\u001b[1;32m~\\anaconda3\\envs\\walmart_sales_store\\lib\\site-packages\\pandas\\core\\generic.py\u001b[0m in \u001b[0;36m_get_axis_name\u001b[1;34m(cls, axis)\u001b[0m\n\u001b[0;32m    551\u001b[0m     \u001b[1;33m@\u001b[0m\u001b[0mclassmethod\u001b[0m\u001b[1;33m\u001b[0m\u001b[1;33m\u001b[0m\u001b[0m\n\u001b[0;32m    552\u001b[0m     \u001b[1;32mdef\u001b[0m \u001b[0m_get_axis_name\u001b[0m\u001b[1;33m(\u001b[0m\u001b[0mcls\u001b[0m\u001b[1;33m,\u001b[0m \u001b[0maxis\u001b[0m\u001b[1;33m:\u001b[0m \u001b[0mAxis\u001b[0m\u001b[1;33m)\u001b[0m \u001b[1;33m->\u001b[0m \u001b[0mstr\u001b[0m\u001b[1;33m:\u001b[0m\u001b[1;33m\u001b[0m\u001b[1;33m\u001b[0m\u001b[0m\n\u001b[1;32m--> 553\u001b[1;33m         \u001b[0maxis_number\u001b[0m \u001b[1;33m=\u001b[0m \u001b[0mcls\u001b[0m\u001b[1;33m.\u001b[0m\u001b[0m_get_axis_number\u001b[0m\u001b[1;33m(\u001b[0m\u001b[0maxis\u001b[0m\u001b[1;33m)\u001b[0m\u001b[1;33m\u001b[0m\u001b[1;33m\u001b[0m\u001b[0m\n\u001b[0m\u001b[0;32m    554\u001b[0m         \u001b[1;32mreturn\u001b[0m \u001b[0mcls\u001b[0m\u001b[1;33m.\u001b[0m\u001b[0m_AXIS_ORDERS\u001b[0m\u001b[1;33m[\u001b[0m\u001b[0maxis_number\u001b[0m\u001b[1;33m]\u001b[0m\u001b[1;33m\u001b[0m\u001b[1;33m\u001b[0m\u001b[0m\n\u001b[0;32m    555\u001b[0m \u001b[1;33m\u001b[0m\u001b[0m\n",
      "\u001b[1;32m~\\anaconda3\\envs\\walmart_sales_store\\lib\\site-packages\\pandas\\core\\generic.py\u001b[0m in \u001b[0;36m_get_axis_number\u001b[1;34m(cls, axis)\u001b[0m\n\u001b[0;32m    546\u001b[0m             \u001b[1;32mreturn\u001b[0m \u001b[0mcls\u001b[0m\u001b[1;33m.\u001b[0m\u001b[0m_AXIS_TO_AXIS_NUMBER\u001b[0m\u001b[1;33m[\u001b[0m\u001b[0maxis\u001b[0m\u001b[1;33m]\u001b[0m\u001b[1;33m\u001b[0m\u001b[1;33m\u001b[0m\u001b[0m\n\u001b[0;32m    547\u001b[0m         \u001b[1;32mexcept\u001b[0m \u001b[0mKeyError\u001b[0m\u001b[1;33m:\u001b[0m\u001b[1;33m\u001b[0m\u001b[1;33m\u001b[0m\u001b[0m\n\u001b[1;32m--> 548\u001b[1;33m             \u001b[1;32mraise\u001b[0m \u001b[0mValueError\u001b[0m\u001b[1;33m(\u001b[0m\u001b[1;34mf\"No axis named {axis} for object type {cls.__name__}\"\u001b[0m\u001b[1;33m)\u001b[0m\u001b[1;33m\u001b[0m\u001b[1;33m\u001b[0m\u001b[0m\n\u001b[0m\u001b[0;32m    549\u001b[0m \u001b[1;33m\u001b[0m\u001b[0m\n\u001b[0;32m    550\u001b[0m     \u001b[1;33m@\u001b[0m\u001b[0mfinal\u001b[0m\u001b[1;33m\u001b[0m\u001b[1;33m\u001b[0m\u001b[0m\n",
      "\u001b[1;31mValueError\u001b[0m: No axis named 1 for object type Series"
     ]
    }
   ],
   "source": [
    "cols_drop = ['dept']\n",
    "df3 = df3.drop(cols_drop, axis=1)"
   ]
  },
  {
   "cell_type": "code",
   "execution_count": 52,
   "id": "dd249c8b",
   "metadata": {
    "ExecuteTime": {
     "end_time": "2022-01-09T22:19:41.821089Z",
     "start_time": "2022-01-09T22:19:41.801088Z"
    }
   },
   "outputs": [
    {
     "ename": "AttributeError",
     "evalue": "'Series' object has no attribute 'columns'",
     "output_type": "error",
     "traceback": [
      "\u001b[1;31m---------------------------------------------------------------------------\u001b[0m",
      "\u001b[1;31mAttributeError\u001b[0m                            Traceback (most recent call last)",
      "\u001b[1;32m~\\AppData\\Local\\Temp/ipykernel_5184/3096692924.py\u001b[0m in \u001b[0;36m<module>\u001b[1;34m\u001b[0m\n\u001b[1;32m----> 1\u001b[1;33m \u001b[0mdf3\u001b[0m\u001b[1;33m.\u001b[0m\u001b[0mcolumns\u001b[0m\u001b[1;33m\u001b[0m\u001b[1;33m\u001b[0m\u001b[0m\n\u001b[0m",
      "\u001b[1;32m~\\anaconda3\\envs\\walmart_sales_store\\lib\\site-packages\\pandas\\core\\generic.py\u001b[0m in \u001b[0;36m__getattr__\u001b[1;34m(self, name)\u001b[0m\n\u001b[0;32m   5485\u001b[0m         ):\n\u001b[0;32m   5486\u001b[0m             \u001b[1;32mreturn\u001b[0m \u001b[0mself\u001b[0m\u001b[1;33m[\u001b[0m\u001b[0mname\u001b[0m\u001b[1;33m]\u001b[0m\u001b[1;33m\u001b[0m\u001b[1;33m\u001b[0m\u001b[0m\n\u001b[1;32m-> 5487\u001b[1;33m         \u001b[1;32mreturn\u001b[0m \u001b[0mobject\u001b[0m\u001b[1;33m.\u001b[0m\u001b[0m__getattribute__\u001b[0m\u001b[1;33m(\u001b[0m\u001b[0mself\u001b[0m\u001b[1;33m,\u001b[0m \u001b[0mname\u001b[0m\u001b[1;33m)\u001b[0m\u001b[1;33m\u001b[0m\u001b[1;33m\u001b[0m\u001b[0m\n\u001b[0m\u001b[0;32m   5488\u001b[0m \u001b[1;33m\u001b[0m\u001b[0m\n\u001b[0;32m   5489\u001b[0m     \u001b[1;32mdef\u001b[0m \u001b[0m__setattr__\u001b[0m\u001b[1;33m(\u001b[0m\u001b[0mself\u001b[0m\u001b[1;33m,\u001b[0m \u001b[0mname\u001b[0m\u001b[1;33m:\u001b[0m \u001b[0mstr\u001b[0m\u001b[1;33m,\u001b[0m \u001b[0mvalue\u001b[0m\u001b[1;33m)\u001b[0m \u001b[1;33m->\u001b[0m \u001b[1;32mNone\u001b[0m\u001b[1;33m:\u001b[0m\u001b[1;33m\u001b[0m\u001b[1;33m\u001b[0m\u001b[0m\n",
      "\u001b[1;31mAttributeError\u001b[0m: 'Series' object has no attribute 'columns'"
     ]
    }
   ],
   "source": [
    "df3.columns"
   ]
  },
  {
   "cell_type": "code",
   "execution_count": null,
   "id": "0d79c76b",
   "metadata": {},
   "outputs": [],
   "source": []
  }
 ],
 "metadata": {
  "kernelspec": {
   "display_name": "Python 3 (ipykernel)",
   "language": "python",
   "name": "python3"
  },
  "language_info": {
   "codemirror_mode": {
    "name": "ipython",
    "version": 3
   },
   "file_extension": ".py",
   "mimetype": "text/x-python",
   "name": "python",
   "nbconvert_exporter": "python",
   "pygments_lexer": "ipython3",
   "version": "3.8.12"
  }
 },
 "nbformat": 4,
 "nbformat_minor": 5
}
